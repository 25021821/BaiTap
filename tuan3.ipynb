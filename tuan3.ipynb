{
  "nbformat": 4,
  "nbformat_minor": 0,
  "metadata": {
    "colab": {
      "provenance": [],
      "authorship_tag": "ABX9TyPR+023qatkyBSxhr0sdWkX",
      "include_colab_link": true
    },
    "kernelspec": {
      "name": "python3",
      "display_name": "Python 3"
    },
    "language_info": {
      "name": "python"
    }
  },
  "cells": [
    {
      "cell_type": "markdown",
      "metadata": {
        "id": "view-in-github",
        "colab_type": "text"
      },
      "source": [
        "<a href=\"https://colab.research.google.com/github/25021821/BaiTap/blob/master/tuan3.ipynb\" target=\"_parent\"><img src=\"https://colab.research.google.com/assets/colab-badge.svg\" alt=\"Open In Colab\"/></a>"
      ]
    },
    {
      "cell_type": "code",
      "execution_count": 1,
      "metadata": {
        "colab": {
          "base_uri": "https://localhost:8080/"
        },
        "id": "-o5c2zVZwp48",
        "outputId": "80719ab9-1791-4411-e01e-62fbcf6b3e85"
      },
      "outputs": [
        {
          "output_type": "stream",
          "name": "stdout",
          "text": [
            "Nhập một số thực: 7676\n",
            "7676 7676 7676\n"
          ]
        }
      ],
      "source": [
        "n = int(input(\"Nhập số nguyên n: \"))\n",
        "if n < 0:\n",
        "    print(-int(str(-n)[::-1]))\n",
        "else:\n",
        "    print(int(str(n)[::-1]))"
      ]
    },
    {
      "cell_type": "code",
      "source": [
        "a = int(input(\"Nhập a: \"))\n",
        "b = int(input(\"Nhập b: \"))\n",
        "a = a ^ b\n",
        "b = a ^ b\n",
        "a = a ^ b\n",
        "print(f\"Sau hoán đổi: a = {a}, b = {b}\")"
      ],
      "metadata": {
        "id": "Li6S1UdCwu4C"
      },
      "execution_count": null,
      "outputs": []
    },
    {
      "cell_type": "code",
      "source": [
        "n = int(input(\"Nhập số nguyên n: \"))\n",
        "if n > 0 and (n & (n - 1)) == 0:\n",
        "    print(\"True\")\n",
        "else:\n",
        "    print(\"False\")\n"
      ],
      "metadata": {
        "id": "HRaK7toWwu6S"
      },
      "execution_count": null,
      "outputs": []
    },
    {
      "cell_type": "code",
      "source": [
        "import math\n",
        "m = int(input(\"Nhập m: \"))\n",
        "n = int(input(\"Nhập n (khác 0): \"))\n",
        "print(\"Làm tròn xuống:\", m // n)"
      ],
      "metadata": {
        "id": "iRoh7NDSwu8r"
      },
      "execution_count": null,
      "outputs": []
    },
    {
      "cell_type": "code",
      "source": [
        "import math\n",
        "m = int(input(\"Nhập m: \"))\n",
        "n = int(input(\"Nhập n (khác 0): \"))\n",
        "print(\"Làm tròn lên:\", math.ceil(m / n))"
      ],
      "metadata": {
        "id": "4JI9oXWXwu-k"
      },
      "execution_count": null,
      "outputs": []
    },
    {
      "cell_type": "code",
      "source": [
        "n = int(input(\"Nhập số: \"))\n",
        "print(\"Even\" if n % 2 == 0 else \"Odd\")"
      ],
      "metadata": {
        "id": "4z0XBquuwvCe"
      },
      "execution_count": null,
      "outputs": []
    },
    {
      "cell_type": "code",
      "source": [
        "a = int(input(\"Nhập a: \"))\n",
        "b = int(input(\"Nhập b: \"))\n",
        "print(\"Yes\" if a < 0 and b < 0 else \"No\")"
      ],
      "metadata": {
        "id": "kyk4xL9SwvE7"
      },
      "execution_count": null,
      "outputs": []
    },
    {
      "cell_type": "code",
      "source": [
        "a = input(\"Nhập chuỗi a: \")\n",
        "b = input(\"Nhập chuỗi b: \")\n",
        "print(\"True\" if len(a) > len(b) else \"False\")"
      ],
      "metadata": {
        "id": "keUlMBsDwvG4"
      },
      "execution_count": null,
      "outputs": []
    },
    {
      "cell_type": "code",
      "source": [
        "a = int(input(\"Nhập a: \"))\n",
        "b = int(input(\"Nhập b: \"))\n",
        "c = int(input(\"Nhập c: \"))\n",
        "if a + b > c and a + c > b and b + c > a:\n",
        "    print(\"Yes\")\n",
        "else:\n",
        "    print(\"No\")"
      ],
      "metadata": {
        "id": "4BnHHrszwvJE"
      },
      "execution_count": null,
      "outputs": []
    },
    {
      "cell_type": "code",
      "source": [
        "a = int(input(\"Nhập a: \"))\n",
        "b = int(input(\"Nhập b: \"))\n",
        "c = int(input(\"Nhập c: \"))\n",
        "d = int(input(\"Nhập d: \"))\n",
        "print(\"Max =\", max(a, b, c, d))"
      ],
      "metadata": {
        "id": "2Zviu8jExRfU"
      },
      "execution_count": null,
      "outputs": []
    },
    {
      "cell_type": "code",
      "source": [
        "a = int(input(\"Nhập a: \"))\n",
        "b = int(input(\"Nhập b: \"))\n",
        "c = int(input(\"Nhập c: \"))\n",
        "if a + b <= c or a + c <= b or b + c <= a:\n",
        "    print(\"Không phải tam giác\")\n",
        "elif a == b == c:\n",
        "    print(\"Tam giác đều\")\n",
        "elif a == b or b == c or a == c:\n",
        "    print(\"Tam giác cân\")\n",
        "else:\n",
        "    print(\"Tam giác thường\")\n"
      ],
      "metadata": {
        "id": "DEguOJzcxRhn"
      },
      "execution_count": null,
      "outputs": []
    },
    {
      "cell_type": "code",
      "source": [
        "y = int(input(\"Nhập năm: \"))\n",
        "if (y % 4 == 0 and y % 100 != 0) or (y % 400 == 0):\n",
        "    print(\"Yes\")\n",
        "else:\n",
        "    print(\"No\")"
      ],
      "metadata": {
        "id": "_zfpeJyJwvLF"
      },
      "execution_count": null,
      "outputs": []
    },
    {
      "cell_type": "code",
      "source": [
        "kwh = int(input(\"Nhập số kWh tiêu thụ: \"))\n",
        "if kwh <= 50:\n",
        "    bill = kwh * 1500\n",
        "elif kwh <= 100:\n",
        "    bill = 50 * 1500 + (kwh - 50) * 2000\n",
        "else:\n",
        "    bill = 50 * 1500 + 50 * 2000 + (kwh - 100) * 3000\n",
        "print(\"Tiền điện:\", bill)"
      ],
      "metadata": {
        "id": "sizxG1QCwvNJ"
      },
      "execution_count": null,
      "outputs": []
    },
    {
      "cell_type": "code",
      "source": [
        "a = float(input(\"Nhập a: \"))\n",
        "b = float(input(\"Nhập b: \"))\n",
        "if a == 0:\n",
        "    if b == 0:\n",
        "        print(\"Vô số nghiệm\")\n",
        "    else:\n",
        "        print(\"Vô nghiệm\")\n",
        "else:\n",
        "    print(\"Nghiệm:\", -b / a)"
      ],
      "metadata": {
        "id": "61ykVnvowvPk"
      },
      "execution_count": null,
      "outputs": []
    },
    {
      "cell_type": "code",
      "source": [
        "g = float(input(\"Nhập điểm trung bình: \"))\n",
        "if g >= 8.5:\n",
        "    print(\"Giỏi\")\n",
        "elif g >= 7:\n",
        "    print(\"Khá\")\n",
        "elif g >= 5:\n",
        "    print(\"Trung bình\")\n",
        "else:\n",
        "    print(\"Yếu\")"
      ],
      "metadata": {
        "id": "8w5MqxduwvR1"
      },
      "execution_count": null,
      "outputs": []
    },
    {
      "cell_type": "code",
      "source": [
        "x = float(input(\"Nhập một số thực: \"))\n",
        "down = int(x) if x >= 0 else int(x) - (1 if x != int(x) else 0)\n",
        "up = int(x) + (1 if x > int(x) else 0) if x >= 0 else int(x)\n",
        "fraction = x - int(x)\n",
        "if x >= 0:\n",
        "    nearest = int(x) + (1 if fraction >= 0.5 else 0)\n",
        "else:\n",
        "    nearest = int(x) - (1 if abs(fraction) >= 0.5 else 0)\n",
        "print(down, up, nearest)"
      ],
      "metadata": {
        "id": "I4Ko0pjKwvWN"
      },
      "execution_count": null,
      "outputs": []
    }
  ]
}