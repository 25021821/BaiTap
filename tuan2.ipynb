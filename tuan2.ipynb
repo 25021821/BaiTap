{
  "nbformat": 4,
  "nbformat_minor": 0,
  "metadata": {
    "colab": {
      "provenance": [],
      "authorship_tag": "ABX9TyMELz4XOafMdC/kFcFHvacd",
      "include_colab_link": true
    },
    "kernelspec": {
      "name": "python3",
      "display_name": "Python 3"
    },
    "language_info": {
      "name": "python"
    }
  },
  "cells": [
    {
      "cell_type": "markdown",
      "metadata": {
        "id": "view-in-github",
        "colab_type": "text"
      },
      "source": [
        "<a href=\"https://colab.research.google.com/github/25021821/BaiTap/blob/master/tuan2.ipynb\" target=\"_parent\"><img src=\"https://colab.research.google.com/assets/colab-badge.svg\" alt=\"Open In Colab\"/></a>"
      ]
    },
    {
      "cell_type": "code",
      "execution_count": null,
      "metadata": {
        "id": "z9F_2yChv5jx"
      },
      "outputs": [],
      "source": [
        "n = int(input(\"Nhập số nguyên n: \"))\n",
        "print (\"Số gấp đôi n là:\", 2*n)"
      ]
    },
    {
      "cell_type": "code",
      "source": [
        "a = int(input(\"Nhập chiều rộng a: \"))\n",
        "b = int(input(\"Nhập chiều dài b: \"))\n",
        "print (\"Diện tích của khu đất:\", a*b)\n",
        "print (\"Diện tích của hình tròn:\",(a/2)**2*3.14 )\n",
        "c = (a/2)**2*3.14\n",
        "print (\"Diện tích trồng cây là:\", round( a*b-c, 2))"
      ],
      "metadata": {
        "id": "yR2zcb_twF2C"
      },
      "execution_count": null,
      "outputs": []
    },
    {
      "cell_type": "code",
      "source": [
        "ch = input(\"Nhập một ký tự thường hoặc hoa (a-z): \")\n",
        "ch_hoa = ch.upper()\n",
        "ch_thuong = ch.lower()\n",
        "if len(ch) == 1 and ch.isalpha():\n",
        "\tif ch == ch.lower():\n",
        "\t\tprint(\"Ký tự hoa:\", ch_hoa)\n",
        "\telif ch == ch.lower():\n",
        "\t\tprint(\"Ký tự thường:\", ch_thuong)\n",
        "else:\n",
        "\tprint(\"Bạn đã nhập sai ký tự\")"
      ],
      "metadata": {
        "id": "tIrPZyoHwF4m"
      },
      "execution_count": null,
      "outputs": []
    },
    {
      "cell_type": "code",
      "source": [
        "c = input(\"Nhập chữ cái hoa: \")\n",
        "while True:\n",
        "\tif len(c) == 1 and c.isalpha():\n",
        "\t\tif c == c.lower():\n",
        "\t\t\tprint(\"Sai kí tự\")\n",
        "\t\t\tbreak\n",
        "\t\tif c == 'A':\n",
        "\t\t    print(\"Không có chữ cái trước a\")\n",
        "\t\t    break\n",
        "\t\telse:\n",
        "\t\t    lower_c = c.lower()\n",
        "\t\t    prev_char = chr(ord(lower_c) - 1)\n",
        "\t\t    print(\"Kết quả:\", prev_char)\n",
        "\t\t    break"
      ],
      "metadata": {
        "id": "fQ4GT20Rv8Ce"
      },
      "execution_count": null,
      "outputs": []
    },
    {
      "cell_type": "code",
      "source": [
        "import math\n",
        "print (\" Nhập độ dài ba cạnh a,b,c:\")\n",
        "a = int(input(\"Nhập a: \"))\n",
        "b = int(input(\"Nhập b: \"))\n",
        "c = int(input(\"Nhập c: \"))\n",
        "if a+b>c and a+c>b and b+c>a:\n",
        "\ts = (a + b + c) / 2.0\n",
        "\tarea_sq = s * (s - a) * (s - b) * (s - c)\n",
        "\tarea = math.sqrt(area_sq)\n",
        "\tprint(\"Diện tích hình tam giác là:\",  f\"{area:.1f}\")\n",
        "else:\n",
        "\tprint(\"Đây không phải hình tam giác\")"
      ],
      "metadata": {
        "id": "qrG4WpaIv8Em"
      },
      "execution_count": null,
      "outputs": []
    },
    {
      "cell_type": "code",
      "source": [
        "s = input(\"Nhập chuỗi (ít nhất 20 ký tự thường): \")\n",
        "if len(s) >= 20:\n",
        "    t5 = s[4]\n",
        "    t9 = s[8]\n",
        "    print(\"Ký tự thứ 5:\", t5)\n",
        "    print(\"Ký tự thứ 9:\", t9)\n",
        "else:\n",
        "    print(\"Chuỗi không đủ dài, hãy nhập lại\")"
      ],
      "metadata": {
        "id": "OGGxAJjdv8HO"
      },
      "execution_count": null,
      "outputs": []
    },
    {
      "cell_type": "code",
      "source": [
        "ten = input(\"Nhập tên chủ hộ: \")\n",
        "cs_truoc = int(input(\"Nhập chỉ số tháng trước: \"))\n",
        "cs_sau = int(input(\"Nhập chỉ số tháng này: \"))\n",
        "so_dien = cs_sau - cs_truoc\n",
        "tien = 0\n",
        "if so_dien <= 50:\n",
        "    tien = so_dien * 1984\n",
        "elif so_dien <= 100:\n",
        "    tien = 50 * 1984 + (so_dien - 50) * 2050\n",
        "elif so_dien <= 200:\n",
        "    tien = 50 * 1984 + 50 * 2050 + (so_dien - 100) * 2380\n",
        "elif so_dien <= 300:\n",
        "    tien = 50 * 1984 + 50 * 2050 + 100 * 2380 + (so_dien - 200) * 2998\n",
        "elif so_dien <= 400:\n",
        "    tien = 50 * 1984 + 50 * 2050 + 100 * 2380 + 100 * 2998 + (so_dien - 300) * 3350\n",
        "else:\n",
        "    tien = 50 * 1984 + 50 * 2050 + 100 * 2380 + 100 * 2998 + 100 * 3350 + (so_dien - 400) * 3460\n",
        "tien_tra = round(tien * 1.08)\n",
        "print(\"Ho va ten:\", ten)\n",
        "print(\"Tien phai tra la:\", tien_tra)"
      ],
      "metadata": {
        "id": "LzWpZ10pv8JJ"
      },
      "execution_count": null,
      "outputs": []
    }
  ]
}